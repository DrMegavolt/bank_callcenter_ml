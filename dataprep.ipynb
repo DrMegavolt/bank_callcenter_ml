{
 "cells": [
  {
   "cell_type": "code",
   "execution_count": 72,
   "metadata": {},
   "outputs": [],
   "source": [
    "import import_ipynb\n",
    "import tensorflow as tf\n",
    "import pandas as pd\n",
    "import tensorflow_hub as hub\n",
    "import os\n",
    "import re\n",
    "from sklearn.metrics import confusion_matrix, accuracy_score\n",
    "import numpy as np\n",
    "from bert.tokenization import FullTokenizer\n",
    "from tqdm import tqdm_notebook\n",
    "from tensorflow.keras import backend as K\n",
    "from sklearn.model_selection import train_test_split\n",
    "import bertkeras as bk\n",
    "import matplotlib.pyplot as plt\n",
    "import seaborn as sns\n",
    "from matplotlib import pyplot\n",
    "from scipy.stats import norm, boxcox\n",
    "sns.set()"
   ]
  },
  {
   "cell_type": "code",
   "execution_count": 3,
   "metadata": {},
   "outputs": [],
   "source": [
    "df= pd.read_csv('data_5_products.csv', index_col='Complaint ID', usecols=['Product','Sub-product', 'Issue', 'Sub-issue', 'Consumer complaint narrative', 'Complaint ID'])"
   ]
  },
  {
   "cell_type": "code",
   "execution_count": 4,
   "metadata": {},
   "outputs": [],
   "source": [
    "max_seq_length = 256"
   ]
  },
  {
   "cell_type": "code",
   "execution_count": 5,
   "metadata": {},
   "outputs": [],
   "source": [
    "df = df.fillna(\"\")\n",
    "# df[df['Consumer complaint narrative'].str.len()<1000] we need to drop short texts"
   ]
  },
  {
   "cell_type": "code",
   "execution_count": 6,
   "metadata": {},
   "outputs": [
    {
     "data": {
      "text/plain": [
       "Product                         36958\n",
       "Sub-product                     36958\n",
       "Issue                           36958\n",
       "Sub-issue                       36958\n",
       "Consumer complaint narrative    36958\n",
       "dtype: int64"
      ]
     },
     "execution_count": 6,
     "metadata": {},
     "output_type": "execute_result"
    }
   ],
   "source": [
    "df.count()"
   ]
  },
  {
   "cell_type": "code",
   "execution_count": 7,
   "metadata": {},
   "outputs": [],
   "source": [
    "#df['Category'] = df[\"Product\"] + \" - \" + df['Sub-product'] \n"
   ]
  },
  {
   "cell_type": "code",
   "execution_count": 8,
   "metadata": {},
   "outputs": [],
   "source": [
    "labels = pd.get_dummies(df['Product'])\n",
    "texts = df['Consumer complaint narrative']\n",
    "texts = bk.preprocess_texts(texts)"
   ]
  },
  {
   "cell_type": "code",
   "execution_count": 9,
   "metadata": {},
   "outputs": [
    {
     "data": {
      "text/plain": [
       "'i called the suntrust executive office on xxxx xxxx and talked to xxxx xxxx i explained to her that all of my emails to xxxxxxxxxxxx in the last few months were ignored and asked her why she said she did n t know why but said that is not how suntrust does business i pointed out to her that that obviously is how suntrust does business otherwise someone would have responded to my emails it s also obvious that repeatedly lying to customers is also how suntrust does business and they do not care i told her about the ongoing problem the last xxxx years of not getting a correct mortgage bill after i pay my escrow shortage how can they cash my check for the escrow shortage and then send me a bill for the exact same amount i just paid them that is a scam i also asked her why my escrow has been short 3 years in a row i ve had mortgages with other lenders and never had any problems with getting a correct statement or had my escrow short every year she told me she would open a case for my complaints and call me the following monday xxxx xxxx she of course did not call me back so i tried calling her on xxxx xxxx and was told by xxxx that xxxx xxxx was gone for the day i called again on xxxx xxxx and briefly talked to xxxx who refused to answer any of my questions i called again'"
      ]
     },
     "execution_count": 9,
     "metadata": {},
     "output_type": "execute_result"
    }
   ],
   "source": [
    "txt_train, txt_test, lbl_train, lbl_test = train_test_split(\n",
    "    texts, labels, test_size=0.20, random_state=42)\n",
    "txt_test[0]"
   ]
  },
  {
   "cell_type": "code",
   "execution_count": null,
   "metadata": {},
   "outputs": [],
   "source": []
  },
  {
   "cell_type": "code",
   "execution_count": null,
   "metadata": {},
   "outputs": [],
   "source": []
  },
  {
   "cell_type": "code",
   "execution_count": 10,
   "metadata": {},
   "outputs": [],
   "source": [
    "tokenizer = bk.create_tokenizer_from_hub_module()"
   ]
  },
  {
   "cell_type": "code",
   "execution_count": 11,
   "metadata": {},
   "outputs": [],
   "source": [
    "# Convert data to InputExample format\n",
    "train_examples = bk.convert_text_to_examples(txt_train, lbl_train.values)\n",
    "test_examples = bk.convert_text_to_examples(txt_test, lbl_test.values)"
   ]
  },
  {
   "cell_type": "code",
   "execution_count": null,
   "metadata": {},
   "outputs": [],
   "source": []
  },
  {
   "cell_type": "code",
   "execution_count": 12,
   "metadata": {},
   "outputs": [
    {
     "data": {
      "application/vnd.jupyter.widget-view+json": {
       "model_id": "3c7882d646f5479e9e9a998c3a6022e2",
       "version_major": 2,
       "version_minor": 0
      },
      "text/plain": [
       "HBox(children=(IntProgress(value=0, description='Converting examples to features', max=29566, style=ProgressSt…"
      ]
     },
     "metadata": {},
     "output_type": "display_data"
    },
    {
     "name": "stdout",
     "output_type": "stream",
     "text": [
      "\n"
     ]
    },
    {
     "data": {
      "application/vnd.jupyter.widget-view+json": {
       "model_id": "0444680a1c8d4f70a59e05c28e50ac95",
       "version_major": 2,
       "version_minor": 0
      },
      "text/plain": [
       "HBox(children=(IntProgress(value=0, description='Converting examples to features', max=7392, style=ProgressSty…"
      ]
     },
     "metadata": {},
     "output_type": "display_data"
    },
    {
     "name": "stdout",
     "output_type": "stream",
     "text": [
      "\n"
     ]
    }
   ],
   "source": [
    "\n",
    "\n",
    "\n",
    "\n",
    "# Convert to features\n",
    "(train_input_ids, train_input_masks, train_segment_ids, train_labels \n",
    ") = bk.convert_examples_to_features(tokenizer, train_examples, max_seq_length=max_seq_length)\n",
    "(test_input_ids, test_input_masks, test_segment_ids, test_labels\n",
    ") = bk.convert_examples_to_features(tokenizer, test_examples, max_seq_length=max_seq_length)"
   ]
  },
  {
   "cell_type": "code",
   "execution_count": 13,
   "metadata": {},
   "outputs": [
    {
     "data": {
      "text/plain": [
       "{'guid': None,\n",
       " 'text_a': 'my mortgage company emc has not complied with the stipulations outlined in the settlement of ftc file xxxx pgs xxxx of pdf they failed to correct my escrow account which is clearly miscalculated see pgs xxxx xxxx of pdf and filed false documentation with the irs in regards to what they actually received from me see pgs xxxx xxxx they refused to answer the pennsylvania banking commisons questions regarding these xxxx matters see pg xxxx of pdf xxxx line they excluded me from any settlement monies gave my loan to a collection agency xxxx xxxx xxxx without settling the dispute see pgs xxxx they then told me there was no more settlement money but they recognized their mistake and would satisfy my loan see xxxx xxxx xxxx of pdf yet they still report this incorrect amount to both xxxx and xxxx xxxx they do not report tis to xxxx emc sold my loan to chase the resolution i want after 10 years of being taken advantage of is this debt totally removed from my credit history i want them held accountable for violating the ftc settlement which precludes them from misrepresenting the amounts i owe not compensating me violating my rights in regards to the fdcra by reporting a amount they know is inaccurate my escrow disclosure statements for xx xx xxxx and xx xx xxxx do not match my annual tax and interest statements as they should see pgs xxxx xxxx of pdf my rights are being violated and my credit has been damaged for',\n",
       " 'text_b': None,\n",
       " 'label': array([0, 0, 0, 0, 1], dtype=uint8)}"
      ]
     },
     "execution_count": 13,
     "metadata": {},
     "output_type": "execute_result"
    }
   ],
   "source": [
    "train_examples[0].__dict__"
   ]
  },
  {
   "cell_type": "code",
   "execution_count": 14,
   "metadata": {},
   "outputs": [],
   "source": [
    "def build_model(max_seq_length): \n",
    "    in_id = tf.keras.layers.Input(shape=(max_seq_length,), name=\"input_ids\")\n",
    "    in_mask = tf.keras.layers.Input(shape=(max_seq_length,), name=\"input_masks\")\n",
    "    in_segment = tf.keras.layers.Input(shape=(max_seq_length,), name=\"segment_ids\")\n",
    "    bert_inputs = [in_id, in_mask, in_segment]\n",
    "    \n",
    "    bert_output = bk.BertLayer(n_fine_tune_layers=2, pooling=\"first\")(bert_inputs)\n",
    "    dense = tf.keras.layers.Dense(256, activation='relu')(bert_output)\n",
    "    pred = tf.keras.layers.Dense(5, activation='softmax')(dense)\n",
    "    \n",
    "    model = tf.keras.models.Model(inputs=bert_inputs, outputs=pred)\n",
    "    model.compile(loss='categorical_crossentropy', optimizer='adam', metrics=['accuracy'])\n",
    "    model.summary()\n",
    "    \n",
    "    return model"
   ]
  },
  {
   "cell_type": "code",
   "execution_count": 16,
   "metadata": {},
   "outputs": [
    {
     "name": "stdout",
     "output_type": "stream",
     "text": [
      "__________________________________________________________________________________________________\n",
      "Layer (type)                    Output Shape         Param #     Connected to                     \n",
      "==================================================================================================\n",
      "input_ids (InputLayer)          (None, 256)          0                                            \n",
      "__________________________________________________________________________________________________\n",
      "input_masks (InputLayer)        (None, 256)          0                                            \n",
      "__________________________________________________________________________________________________\n",
      "segment_ids (InputLayer)        (None, 256)          0                                            \n",
      "__________________________________________________________________________________________________\n",
      "bert_layer (BertLayer)          (None, 768)          110104890   input_ids[0][0]                  \n",
      "                                                                 input_masks[0][0]                \n",
      "                                                                 segment_ids[0][0]                \n",
      "__________________________________________________________________________________________________\n",
      "dense (Dense)                   (None, 256)          196864      bert_layer[0][0]                 \n",
      "__________________________________________________________________________________________________\n",
      "dense_1 (Dense)                 (None, 5)            1285        dense[0][0]                      \n",
      "==================================================================================================\n",
      "Total params: 110,303,039\n",
      "Trainable params: 14,964,485\n",
      "Non-trainable params: 95,338,554\n",
      "__________________________________________________________________________________________________\n"
     ]
    }
   ],
   "source": [
    "model = build_model(max_seq_length)"
   ]
  },
  {
   "cell_type": "code",
   "execution_count": 23,
   "metadata": {},
   "outputs": [
    {
     "name": "stdout",
     "output_type": "stream",
     "text": [
      "__________________________________________________________________________________________________\n",
      "Layer (type)                    Output Shape         Param #     Connected to                     \n",
      "==================================================================================================\n",
      "input_ids (InputLayer)          (None, 256)          0                                            \n",
      "__________________________________________________________________________________________________\n",
      "input_masks (InputLayer)        (None, 256)          0                                            \n",
      "__________________________________________________________________________________________________\n",
      "segment_ids (InputLayer)        (None, 256)          0                                            \n",
      "__________________________________________________________________________________________________\n",
      "bert_layer (BertLayer)          (None, 768)          110104890   input_ids[0][0]                  \n",
      "                                                                 input_masks[0][0]                \n",
      "                                                                 segment_ids[0][0]                \n",
      "__________________________________________________________________________________________________\n",
      "dense (Dense)                   (None, 256)          196864      bert_layer[0][0]                 \n",
      "__________________________________________________________________________________________________\n",
      "dense_1 (Dense)                 (None, 5)            1285        dense[0][0]                      \n",
      "==================================================================================================\n",
      "Total params: 110,303,039\n",
      "Trainable params: 14,964,485\n",
      "Non-trainable params: 95,338,554\n",
      "__________________________________________________________________________________________________\n",
      "Train on 29566 samples, validate on 7392 samples\n",
      "Epoch 1/2\n",
      "29566/29566 [==============================] - 872s 30ms/sample - loss: 0.9578 - acc: 0.6201 - val_loss: 0.8152 - val_acc: 0.6901\n",
      "Epoch 2/2\n",
      "29566/29566 [==============================] - 855s 29ms/sample - loss: 0.6623 - acc: 0.7711 - val_loss: 0.5283 - val_acc: 0.8291\n"
     ]
    },
    {
     "data": {
      "text/plain": [
       "<tensorflow.python.keras.callbacks.History at 0x7fc6532fae80>"
      ]
     },
     "execution_count": 23,
     "metadata": {},
     "output_type": "execute_result"
    }
   ],
   "source": [
    "\n",
    "\n",
    "\n",
    "# Initialize session\n",
    "sess = tf.Session()\n",
    "# Instantiate variables\n",
    "bk.initialize_vars(sess)\n",
    "\n",
    "model.fit(\n",
    "    [train_input_ids, train_input_masks, train_segment_ids], \n",
    "    train_labels,\n",
    "    validation_data=([test_input_ids, test_input_masks, test_segment_ids], test_labels),\n",
    "    epochs=2,\n",
    "    batch_size=24\n",
    ")"
   ]
  },
  {
   "cell_type": "code",
   "execution_count": 35,
   "metadata": {},
   "outputs": [],
   "source": [
    "model.save('callcenter.h5')"
   ]
  },
  {
   "cell_type": "code",
   "execution_count": 57,
   "metadata": {},
   "outputs": [],
   "source": [
    "\n",
    "testCount = len(test_input_ids)\n"
   ]
  },
  {
   "cell_type": "code",
   "execution_count": 17,
   "metadata": {},
   "outputs": [],
   "source": [
    "model.load_weights('callcenter.h5')"
   ]
  },
  {
   "cell_type": "code",
   "execution_count": 59,
   "metadata": {},
   "outputs": [],
   "source": [
    "predictions = model.predict([test_input_ids[0:testCount], \n",
    "                                test_input_masks[0:testCount], \n",
    "                                test_segment_ids[0:testCount]])"
   ]
  },
  {
   "cell_type": "code",
   "execution_count": 60,
   "metadata": {},
   "outputs": [],
   "source": [
    "def pickMax(arr):\n",
    "  m = max(arr)\n",
    "  return [int(x>=m) for x in arr]\n",
    "    \n",
    "    \n",
    "pred = [ pickMax(p) for p in predictions]\n"
   ]
  },
  {
   "cell_type": "code",
   "execution_count": 61,
   "metadata": {},
   "outputs": [],
   "source": [
    "real = test_labels[0:testCount]\n"
   ]
  },
  {
   "cell_type": "code",
   "execution_count": 62,
   "metadata": {},
   "outputs": [],
   "source": [
    "predDF = pd.DataFrame(pred, columns=labels.columns)\n",
    "realDF = pd.DataFrame(real, columns=labels.columns)\n",
    "predDF = predDF.idxmax(axis=1)\n",
    "realDF = realDF.idxmax(axis=1)"
   ]
  },
  {
   "cell_type": "code",
   "execution_count": 102,
   "metadata": {},
   "outputs": [],
   "source": [
    "cm = confusion_matrix(realDF, predDF)\n",
    "acc_score = accuracy_score(realDF, predDF)\n",
    "total_products_by_type =  cm.sum(axis=1)"
   ]
  },
  {
   "cell_type": "code",
   "execution_count": 113,
   "metadata": {},
   "outputs": [
    {
     "data": {
      "image/png": "[encoded data removed]",
      "text/plain": [
       "<Figure size 576x576 with 2 Axes>"
      ]
     },
     "metadata": {},
     "output_type": "display_data"
    }
   ],
   "source": [
    "cmap = plt.get_cmap('BuGn')\n",
    "plt.figure(figsize=(8, 8))\n",
    "plt.imshow(cm, interpolation='nearest', cmap=cmap)\n",
    "plt.title(\"Confusion Martix for product types\")\n",
    "plt.colorbar()\n",
    "plt.tight_layout()\n",
    "plt.ylabel('True product name')\n",
    "plt.xlabel('Predicted product name, accuracy {0:.1f}%'.format(acc_score*100))\n",
    "tick_marks = np.arange(len(labels.columns))\n",
    "plt.xticks(tick_marks, labels.columns, rotation=45)\n",
    "plt.yticks(tick_marks, labels.columns)\n",
    "plt.grid(False)\n",
    "plt.clim(0,1500)\n",
    "for (j,i),label in np.ndenumerate(cm):\n",
    "    plt.text(i,j, \"{0}({1:.0f}%)\".format(label, label/total_products_by_type[j]*100),ha='center',va='center')\n",
    "    #ax2.text(i,j,label,ha='center',va='center')\n",
    "plt.show()"
   ]
  },
  {
   "cell_type": "code",
   "execution_count": 71,
   "metadata": {},
   "outputs": [
    {
     "data": {
      "text/plain": [
       "array([[ 929,  202,    3,   66,   83],\n",
       "       [  61, 1244,   26,  149,   16],\n",
       "       [   2,   37, 1415,  248,   32],\n",
       "       [  25,   57,   48, 1162,   92],\n",
       "       [  40,    6,    8,   62, 1379]])"
      ]
     },
     "execution_count": 71,
     "metadata": {},
     "output_type": "execute_result"
    }
   ],
   "source": [
    "cm"
   ]
  },
  {
   "cell_type": "code",
   "execution_count": 74,
   "metadata": {},
   "outputs": [
    {
     "data": {
      "text/plain": [
       "0.8291396103896104"
      ]
     },
     "execution_count": 74,
     "metadata": {},
     "output_type": "execute_result"
    }
   ],
   "source": [
    "acc_score"
   ]
  },
  {
   "cell_type": "code",
   "execution_count": 98,
   "metadata": {},
   "outputs": [
    {
     "data": {
      "text/plain": [
       "array([1283, 1496, 1734, 1384, 1495])"
      ]
     },
     "execution_count": 98,
     "metadata": {},
     "output_type": "execute_result"
    }
   ],
   "source": []
  },
  {
   "cell_type": "code",
   "execution_count": null,
   "metadata": {},
   "outputs": [],
   "source": []
  },
  {
   "cell_type": "code",
   "execution_count": null,
   "metadata": {},
   "outputs": [],
   "source": []
  }
 ],
 "metadata": {
  "kernelspec": {
   "display_name": "Python 3",
   "language": "python",
   "name": "python3"
  },
  "language_info": {
   "codemirror_mode": {
    "name": "ipython",
    "version": 3
   },
   "file_extension": ".py",
   "mimetype": "text/x-python",
   "name": "python",
   "nbconvert_exporter": "python",
   "pygments_lexer": "ipython3",
   "version": "3.7.3"
  }
 },
 "nbformat": 4,
 "nbformat_minor": 2
}
